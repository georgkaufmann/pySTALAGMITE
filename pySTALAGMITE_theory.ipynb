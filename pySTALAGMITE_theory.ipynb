{
 "cells": [
  {
   "cell_type": "markdown",
   "id": "84e5c2b2-e374-45a5-9837-94900fc68621",
   "metadata": {},
   "source": [
    "<table>\n",
    "<tr><td><img style=\"height: 150px;\" src=\"images/geo_hydro1.jpg\"></td>\n",
    "<td bgcolor=\"#FFFFFF\">\n",
    "    <p style=\"font-size: xx-large; font-weight: 900; line-height: 100%\">pySTALAGMITE</p>\n",
    "    <p style=\"font-size: large; color: rgba(0,0,0,0.5);\"><b style=color:red;>STALAGMITE</b> modelling</p>\n",
    "    <p style=\"font-size: large; color: rgba(0,0,0,0.5);\">Georg Kaufmann</p>\n",
    "    </td>\n",
    "<td><img style=\"height: 150px;\" src=\"images/pySTALAGMITE.png\"></td>\n",
    "</tr>\n",
    "</table>\n",
    "\n",
    "----\n",
    "# `pySTALAGMITE`\n",
    "\n",
    "pySTALAGMITE, a program package prediction the shape of a stalagmite from pre-defined climate conditions."
   ]
  },
  {
   "cell_type": "code",
   "execution_count": 22,
   "id": "49108776-4ff8-429d-bd26-fba7a5048646",
   "metadata": {
    "tags": []
   },
   "outputs": [],
   "source": [
    "import matplotlib.pyplot as plt\n",
    "import matplotlib as mpl\n",
    "import numpy as np\n",
    "import sys\n",
    "\n",
    "import libCHEM,libSTALAGMITE"
   ]
  },
  {
   "cell_type": "markdown",
   "id": "2789adb5-3e62-4c12-a648-ab395235c6ee",
   "metadata": {},
   "source": [
    "In this notebook, we discuss the **theoretical background** for modelling shape and geometry of stalagmites.\n",
    "\n",
    "----\n",
    "# Climate\n",
    "<img src='images/KARST_PathOfWater.jpg' style='height:90mm;'>\n",
    "\n",
    "**Climate** conditions control the flow and the chemistry of water seeping from the surface through\n",
    "soil and epikarst towards a cave, where then stalagmites are formed from driplets.\n",
    "\n",
    "The basic climate variables are \n",
    "**temperature** $T$, \n",
    "**carbon-dioxide pressure**, $p$, and\n",
    "**precipitation**, $P$, and the associated evapo-transpiration, $ET$.\n",
    "\n",
    "Four compartments are relevant for us:\n",
    "1. **Atmosphere:** $(T_{atm},p_{atm},P-ET)$\n",
    "\n",
    "2. **Soil:** $(T_{soil},p_{soil})$\n",
    "\n",
    "3. **Epikarst:** $(T_{soil},p_{soil})$\n",
    "\n",
    "4. **Cave:** $(T_{cave},p_{cave})$"
   ]
  },
  {
   "cell_type": "markdown",
   "id": "cc514846-92fa-404c-ab0b-bb0350ffc4ac",
   "metadata": {},
   "source": [
    "----\n",
    "# Chemistry\n",
    "<img src='images/KARST_Cave.jpg'>\n",
    "          \n",
    "The climate variables control the **chemistry** of the seepage water:\n",
    "\n",
    "\n",
    "4. **Calcium concentration in droplet:** $c_{in}$ [mol/m$^3$]\n",
    "$$\n",
    "c_{in} = c_{in} \\big( T_{soil},p_{soil} \\big)\n",
    "$$\n",
    "\n",
    "5. **Calcium equilibrium concentration in cave air:** $c_{eq}$ [mol/m$^3$]\n",
    "$$\n",
    "c_{eq} = c_{eq} \\big( T_{cave},p_{cave} \\big)\n",
    "$$"
   ]
  },
  {
   "cell_type": "markdown",
   "id": "20ddc81c-83c7-482b-bbab-bef4f575d6db",
   "metadata": {},
   "source": [
    "----\n",
    "# Precipitation\n",
    "\n",
    "<img src='images/KARST_StalagmitePrecipitation.jpg'>\n",
    "\n",
    "The droplet enters the cave, a small part of CO$_2$ degasses at the tipping point (Stalactite), but\n",
    "the majority of CO$_2$ degasses on the **stalagmite surface**, where then the supersaturation\n",
    "with respect to calcium occurs.\n",
    "\n",
    "The **calcium fluxrate** at the tip point of the stalagmite is:\n",
    "$$\n",
    "F_0 = \\alpha(T_{cave},\\delta) \\big( c_{in} - c_{eq} \\big)\n",
    "$$\n",
    "with $\\alpha(T_{cave},\\delta)$ [m/s] the **rate-constant** for precipition, depending on \n",
    "**cave temperature** $T_{cave}$ and the **water-film thickness** $\\delta$ [m].\n",
    "\n",
    "This calcium fluxrate can only be reached, when the **drip interval** $\\tau$ [s] is long enough,\n",
    "and all excess calcium can precipitate. For shorter drip intervals, fresh water arrives faster,\n",
    "which reduces the fluxrate. We can account for this by averaing over the drip interval, and \n",
    "find as **average clacium fluxrate**:\n",
    "$$\n",
    "\\bar{F}_0 = \\big( c_{in} - c_{eq} \\big) \\frac{\\delta}{\\tau} \\big( 1 - e^{-\\frac{\\alpha \\tau}{\\delta}} \\big)\n",
    "$$"
   ]
  },
  {
   "cell_type": "markdown",
   "id": "e2657ac9-e96a-471c-a8bd-95f004a69922",
   "metadata": {},
   "source": [
    "----\n",
    "# Growth\n",
    "From the calcium flurate $F$ [mol/m$^2$/s], we can derive the **growth rate** $W$ [m/s]:\n",
    "$$\n",
    "W = \\frac{m_{rock}}{\\rho_{rock}} F\n",
    "$$\n",
    "with $m_{rock}$ [kg/mol] atomic mass, and $\\rho_{rock}$ [kg/m$^3$] rock density.\n",
    "\n",
    "### Growth rate at apex\n",
    "We then find the **growth rate** $W_0$ at the apex as:\n",
    "$$\n",
    "W_0 = \\frac{m_{rock}}{\\rho_{rock}} \\alpha \\big( c_{in} - c_{eq} \\big)\n",
    "$$\n",
    "or averaged over one drip interval\n",
    "$$\n",
    "\\bar{W}_0 = \\frac{m_{rock}}{\\rho_{rock}} \\big( c_{in} - c_{eq} \\big) \\frac{\\delta}{\\tau} \\big( 1 - e^{-\\frac{\\alpha \\tau}{\\delta}} \\big)\n",
    "$$\n",
    "\n",
    "### Equilibrium radius\n",
    "A second parameter controlling stalagmite growth is the **equilibrium radius** $R_0$ [m], which is\n",
    "the radius, when growth is in equilibrium with the prevailing climate conditions:\n",
    "$$\n",
    "R_0 = \\sqrt{\\frac{V}{\\pi \\alpha \\tau}}\n",
    "$$\n",
    "or averaged over one drip interval\n",
    "$$\n",
    "\\bar{R}_0 = \\sqrt{\\frac{V}{\\pi \\delta \\big( 1 - e^{-\\frac{\\alpha \\tau}{\\delta}} \\big)}}\n",
    "$$\n",
    "Here, $V$ [m$^3$] is the drip volume.\n",
    "\n",
    "### Growth along stalagmite surface\n",
    "$$\n",
    "W(x) = \\left\\{\n",
    "\\begin{array}{ll}\n",
    "\\bar{W}_0 e^{- \\frac{\\sum \\Delta l_i}{\\bar{R}_0}} & \\text{geom} \\\\\n",
    "W_i \\big( 1 - \\frac{w_i \\Delta l_i}{R_0^2} \\big)  & \\text{flow}\n",
    "\\end{array}\n",
    "\\right.\n",
    "$$"
   ]
  },
  {
   "cell_type": "markdown",
   "id": "4921a265-164e-4ca8-984d-f25529b2dd45",
   "metadata": {},
   "source": [
    "----"
   ]
  }
 ],
 "metadata": {
  "kernelspec": {
   "display_name": "Python 3 (ipykernel)",
   "language": "python",
   "name": "python3"
  },
  "language_info": {
   "codemirror_mode": {
    "name": "ipython",
    "version": 3
   },
   "file_extension": ".py",
   "mimetype": "text/x-python",
   "name": "python",
   "nbconvert_exporter": "python",
   "pygments_lexer": "ipython3",
   "version": "3.11.3"
  }
 },
 "nbformat": 4,
 "nbformat_minor": 5
}
