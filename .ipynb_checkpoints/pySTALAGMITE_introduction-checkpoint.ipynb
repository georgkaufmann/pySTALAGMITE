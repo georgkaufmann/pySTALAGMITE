{
 "cells": [
  {
   "cell_type": "markdown",
   "id": "84e5c2b2-e374-45a5-9837-94900fc68621",
   "metadata": {},
   "source": [
    "<table>\n",
    "<tr><td><img style=\"height: 150px;\" src=\"images/geo_hydro1.jpg\"></td>\n",
    "<td bgcolor=\"#FFFFFF\">\n",
    "    <p style=\"font-size: xx-large; font-weight: 900; line-height: 100%\">pySTALAGMITE</p>\n",
    "    <p style=\"font-size: large; color: rgba(0,0,0,0.5);\"><b style=color:red;>STALAGMITE</b> modelling</p>\n",
    "    <p style=\"font-size: large; color: rgba(0,0,0,0.5);\">Georg Kaufmann</p>\n",
    "    </td>\n",
    "<td><img style=\"height: 150px;\" src=\"images/pySTALAGMITE.png\"></td>\n",
    "</tr>\n",
    "</table>\n",
    "\n",
    "----\n",
    "# `pySTALAGMITE`\n",
    "\n",
    "pySTALAGMITE, a program package prediction the shape of a stalagmite from pre-defined climate conditions."
   ]
  },
  {
   "cell_type": "markdown",
   "id": "2789adb5-3e62-4c12-a648-ab395235c6ee",
   "metadata": {},
   "source": [
    "----\n",
    "# Introduction\n",
    "\n",
    "Speleothems are a group of **precipitated minerals**, usually made up of calcite, which are found in **caves**, but also\n",
    "in mine galleries and tunnels.\n",
    "\n",
    "The example below show numerous speleothems from the **Bärenhöhle** in southwestern Germany, mainly as\n",
    "- **stalagmites**, growth from the floor upwards, and\n",
    "- **stalactites**, growing from the ceiling downwards.\n",
    "\n",
    "<div style='display:flex;'>\n",
    "<img src='images/Baerenhoehle_GeorgKaufmann.jpg' style='height:90mm;'>\n",
    "<img src='images/pySTALAGMITE.png' style='height:90mm;'>\n",
    "</div>\n",
    "\n",
    "The **shape** of stalagmites, the special group of speleothems, depends on the **climatic conditions**, namely\n",
    "temperature, carbon-dioxide pressure, and precipition.\n",
    "\n",
    "We explore **mathematical models** decribing the formation of stalagmites in this set of notebooks.\n",
    "\n",
    "## Literature\n",
    "\n",
    "- Kaufmann, G. (2003):\n",
    "**Stalagmite growth and paleoclimate: The numerical perspective.**\n",
    "Earth Planet. Sci. Lett., 214 (1-2), 251-266.\n",
    "\n",
    "- Kaufmann, G.; Dreybrodt, W. (2004):\n",
    "**Stalagmite growth and paleoclimate: An inverse approach.**\n",
    "Earth Planet. Sci. Lett., 224, 529-545.\n",
    "\n",
    "- Romanov, D., Kaufmann, G. and Dreybrodt, W. (2008):\n",
    "**Modeling stalagmite growth by first principles of chemistry and physics of calcite precipitation.**\n",
    "Geochim. Cosmochim. Acta, 72, 423-437.\n",
    "\n",
    "- Romanov, D., Kaufmann, G. and Dreybrodt, W. (2008):\n",
    "**$\\delta$13C profiles along growth layers of stalagmites: Comparing theoretical and experimental results.**\n",
    "Geochim. Cosmochim. Acta, 72, 438-448.\n",
    "\n",
    "- Merz, N.; Hubig, A.; Kleinen, T.; Therre, S.; Kaufmann, G.; Frank, N. (2022):\n",
    "**How the climate shapes stalagmites - A comparative study of model and speleothem at the Sofular Cave, Northern Turkey.**\n",
    "Frontiers in Earth Science - Sedimentology, Stratigraphy and Diagenesis, 10, 969211."
   ]
  },
  {
   "cell_type": "markdown",
   "id": "4921a265-164e-4ca8-984d-f25529b2dd45",
   "metadata": {},
   "source": [
    "----"
   ]
  }
 ],
 "metadata": {
  "kernelspec": {
   "display_name": "Python 3 (ipykernel)",
   "language": "python",
   "name": "python3"
  },
  "language_info": {
   "codemirror_mode": {
    "name": "ipython",
    "version": 3
   },
   "file_extension": ".py",
   "mimetype": "text/x-python",
   "name": "python",
   "nbconvert_exporter": "python",
   "pygments_lexer": "ipython3",
   "version": "3.11.3"
  }
 },
 "nbformat": 4,
 "nbformat_minor": 5
}
