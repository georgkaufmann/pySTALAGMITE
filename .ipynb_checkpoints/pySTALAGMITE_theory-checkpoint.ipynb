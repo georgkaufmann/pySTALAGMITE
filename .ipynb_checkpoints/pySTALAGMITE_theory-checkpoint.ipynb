{
 "cells": [
  {
   "cell_type": "markdown",
   "id": "84e5c2b2-e374-45a5-9837-94900fc68621",
   "metadata": {},
   "source": [
    "<table>\n",
    "<tr><td><img style=\"height: 150px;\" src=\"images/geo_hydro1.jpg\"></td>\n",
    "<td bgcolor=\"#FFFFFF\">\n",
    "    <p style=\"font-size: xx-large; font-weight: 900; line-height: 100%\">pySTALAGMITE</p>\n",
    "    <p style=\"font-size: large; color: rgba(0,0,0,0.5);\"><b style=color:red;>STALAGMITE</b> modelling</p>\n",
    "    <p style=\"font-size: large; color: rgba(0,0,0,0.5);\">Georg Kaufmann</p>\n",
    "    </td>\n",
    "<td><img style=\"height: 150px;\" src=\"images/pySTALAGMITE.png\"></td>\n",
    "</tr>\n",
    "</table>\n",
    "\n",
    "----\n",
    "# `pySTALAGMITE`\n",
    "\n",
    "pySTALAGMITE, a program package prediction the shape of a stalagmite from pre-defined climate conditions."
   ]
  },
  {
   "cell_type": "code",
   "execution_count": 22,
   "id": "49108776-4ff8-429d-bd26-fba7a5048646",
   "metadata": {
    "tags": []
   },
   "outputs": [],
   "source": [
    "import matplotlib.pyplot as plt\n",
    "import matplotlib as mpl\n",
    "import numpy as np\n",
    "import sys\n",
    "\n",
    "import libCHEM,libSTALAGMITE"
   ]
  },
  {
   "cell_type": "markdown",
   "id": "2789adb5-3e62-4c12-a648-ab395235c6ee",
   "metadata": {},
   "source": [
    "In this notebook, we discuss\n",
    "\n",
    "----\n",
    "# Theory\n",
    "\n",
    "## Climate\n",
    "Atmosphere\n",
    "$$\n",
    "(T_{atm},p_{atm},P-ET)\n",
    "$$\n",
    "Soil\n",
    "$$\n",
    "(T_{soil},p_{soil})\n",
    "$$\n",
    "Cave\n",
    "$$\n",
    "(T_{cave},p_{cave})\n",
    "$$\n",
    "\n",
    "## Chemistry\n",
    "Calcium concentration in droplet\n",
    "$$\n",
    "c_{in} = c_{in} \\big( T_{soil},p_{soil} \\big)\n",
    "$$\n",
    "Calcium equilibrium concentration in cave air:\n",
    "$$\n",
    "c_{eq} = c_{eq} \\big( T_{cave},p_{cave} \\big)\n",
    "$$\n",
    "Calcium fluxrate at tip point:\n",
    "$$\n",
    "F_0 = \\alpha(T_{cave},\\delta) \\big( c_{in} - c_{eq} \\big)\n",
    "$$\n",
    "\n",
    "## Precipitation\n",
    "Growth rate from calcium fluxrate\n",
    "$$\n",
    "W = \\frac{m_{rock}}{\\rho_{rock}} F\n",
    "$$\n",
    "with $m_{rock}$ [kg/mol] atomic mass, and $\\rho_{rock}$ [kg/m$^3$] rock density.\n",
    "\n",
    "### Growth rate at apex\n",
    "$$\n",
    "W_0 = \\frac{m_{rock}}{\\rho_{rock}} \\alpha \\big( c_{in} - c_{eq} \\big)\n",
    "$$\n",
    "or averaged over one drip interval\n",
    "$$\n",
    "\\bar{W}_0 = \\frac{m_{rock}}{\\rho_{rock}} \\big( c_{in} - c_{eq} \\big) \\frac{\\delta}{\\tau} \\big( 1 - e^{-\\frac{\\alpha \\tau}{\\delta}} \\big)\n",
    "$$\n",
    "\n",
    "### Equilibrium radius\n",
    "$$\n",
    "R_0 = \\sqrt{\\frac{V}{\\pi \\alpha \\tau}}\n",
    "$$\n",
    "or averaged over one drip interval\n",
    "$$\n",
    "\\bar{R}_0 = \\sqrt{\\frac{V}{\\pi \\delta \\big( 1 - e^{-\\frac{\\alpha \\tau}{\\delta}} \\big)}}\n",
    "$$\n",
    "\n",
    "### Growth along stalagmite surface\n",
    "$$\n",
    "W(x) = \\left\\{\n",
    "\\begin{array}{ll}\n",
    "\\bar{W}_0 e^{- \\frac{\\sum \\Delta l_i}{\\bar{R}_0}} & \\text{geom} \\\\\n",
    "W_i \\big( 1 - \\frac{w_i \\Delta l_i}{R_0^2} \\big)  & \\text{flow}\n",
    "\\end{array}\n",
    "\\right.\n",
    "$$"
   ]
  },
  {
   "cell_type": "markdown",
   "id": "4921a265-164e-4ca8-984d-f25529b2dd45",
   "metadata": {},
   "source": [
    "----"
   ]
  }
 ],
 "metadata": {
  "kernelspec": {
   "display_name": "Python 3 (ipykernel)",
   "language": "python",
   "name": "python3"
  },
  "language_info": {
   "codemirror_mode": {
    "name": "ipython",
    "version": 3
   },
   "file_extension": ".py",
   "mimetype": "text/x-python",
   "name": "python",
   "nbconvert_exporter": "python",
   "pygments_lexer": "ipython3",
   "version": "3.11.3"
  }
 },
 "nbformat": 4,
 "nbformat_minor": 5
}
