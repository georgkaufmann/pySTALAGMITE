{
 "cells": [
  {
   "cell_type": "markdown",
   "id": "383108c6",
   "metadata": {},
   "source": [
    "<table>\n",
    "<tr><td><img style=\"height: 150px;\" src=\"images/geo_hydro1.jpg\"></td>\n",
    "<td bgcolor=\"#FFFFFF\">\n",
    "    <p style=\"font-size: xx-large; font-weight: 900; line-height: 100%\">pySTALAGMITE</p>\n",
    "    <p style=\"font-size: large; color: rgba(0,0,0,0.5);\"><b style=color:red;>STALAGMITE</b> modelling</p>\n",
    "    <p style=\"font-size: large; color: rgba(0,0,0,0.5);\">Georg Kaufmann</p>\n",
    "    </td>\n",
    "<td><img style=\"height: 150px;\" src=\"images/pySTALAGMITE.png\"></td>\n",
    "</tr>\n",
    "</table>\n",
    "\n",
    "----\n",
    "# `pySTALAGMITE`\n",
    "\n",
    "pySTALAGMITE, a program package prediction the shape of a stalagmite from pre-defined climate conditions."
   ]
  },
  {
   "cell_type": "markdown",
   "id": "fea533e9",
   "metadata": {},
   "source": [
    "----\n",
    "## Contents\n",
    "\n",
    "- Basics\n",
    "    - [Introduction](pySTALAGMITE_introduction.ipynb)\n",
    "    - [Theory](pySTALAGMITE_theory.ipynb)\n",
    "\n",
    "- Chemistry\n",
    "    - [libCHEM](pySTALAGMITE_libCHEM.ipynb)\n",
    "    - [Water-Carbon dioxide](pySTALAGMITE_H2O_CO2.ipynb)\n",
    "    - [Calcium equilibrium](pySTALAGMITE_CaEquilibrium.ipynb)\n",
    "    - [Calcium flux](pySTALAGMITE_CaFlux.ipynb)\n",
    "    \n",
    "- Setup (Geometrical model)\n",
    "    - [Path of water](pySTALAGMITE_PathOfWater.ipynb)\n",
    "    - [Calcium excess](pySTALAGMITE_calcium.ipynb)\n",
    "    - [Climate variability](pySTALAGMITE_climate.ipynb)\n",
    "    - [Growth rate and equilibrium radius](pySTALAGMITE_W0andR0.ipynb)\n",
    "    \n",
    "- Setup (Flow model)\n",
    "\n",
    "- Run\n",
    "    - [Run geometrical model](pySTALAGMITE_runGeom.ipynb)\n",
    "    - [Run flow model](pySTALAGMITE_runFlow.ipynb)"
   ]
  },
  {
   "cell_type": "markdown",
   "id": "b9ee8777",
   "metadata": {},
   "source": [
    "----"
   ]
  }
 ],
 "metadata": {
  "kernelspec": {
   "display_name": "Python 3 (ipykernel)",
   "language": "python",
   "name": "python3"
  },
  "language_info": {
   "codemirror_mode": {
    "name": "ipython",
    "version": 3
   },
   "file_extension": ".py",
   "mimetype": "text/x-python",
   "name": "python",
   "nbconvert_exporter": "python",
   "pygments_lexer": "ipython3",
   "version": "3.11.3"
  }
 },
 "nbformat": 4,
 "nbformat_minor": 5
}
