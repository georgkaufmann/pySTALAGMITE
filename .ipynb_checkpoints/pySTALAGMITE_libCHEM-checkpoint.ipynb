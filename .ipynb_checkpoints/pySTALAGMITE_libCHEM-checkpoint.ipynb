{
 "cells": [
  {
   "cell_type": "markdown",
   "id": "fc64c0cd",
   "metadata": {},
   "source": [
    "<table>\n",
    "<tr><td><img style=\"height: 150px;\" src=\"images/geo_hydro1.jpg\"></td>\n",
    "<td bgcolor=\"#FFFFFF\">\n",
    "    <p style=\"font-size: xx-large; font-weight: 900; line-height: 100%\">pySTALAGMITE</p>\n",
    "    <p style=\"font-size: large; color: rgba(0,0,0,0.5);\"><b style=color:red;>STALAGMITE</b> modelling</p>\n",
    "    <p style=\"font-size: large; color: rgba(0,0,0,0.5);\">Georg Kaufmann</p>\n",
    "    </td>\n",
    "<td><img style=\"height: 150px;\" src=\"images/pyTEMPLATE.png\"></td>\n",
    "</tr>\n",
    "</table>\n",
    "\n",
    "----\n",
    "# `pySTALAGMITE`\n",
    "\n",
    "pySTALAGMITE, a program package prediction the shape of a stalagmite from pre-defined climate conditions."
   ]
  },
  {
   "cell_type": "markdown",
   "id": "04cd0df4",
   "metadata": {},
   "source": [
    "----\n",
    "# Library for chemistry\n",
    "This notebook introduces the library `libCHEM`, which contains the relevant chemical functions for modelling.\n",
    "\n",
    "Here, we just discuss some chemical reactions from groundwater chemistry."
   ]
  },
  {
   "cell_type": "code",
   "execution_count": 1,
   "id": "596a88c0",
   "metadata": {
    "tags": []
   },
   "outputs": [],
   "source": [
    "import numpy as np\n",
    "import matplotlib.pyplot as plt\n",
    "import libCHEM"
   ]
  },
  {
   "cell_type": "markdown",
   "id": "6a3cb1ae-a425-4737-9b90-88776f2d65e9",
   "metadata": {},
   "source": [
    "Try the `help` function to check the content of the library:"
   ]
  },
  {
   "cell_type": "code",
   "execution_count": null,
   "id": "521d1f63",
   "metadata": {
    "tags": []
   },
   "outputs": [],
   "source": [
    "help(libCHEM)"
   ]
  },
  {
   "cell_type": "markdown",
   "id": "30e69954",
   "metadata": {},
   "source": [
    "----"
   ]
  }
 ],
 "metadata": {
  "kernelspec": {
   "display_name": "Python 3 (ipykernel)",
   "language": "python",
   "name": "python3"
  },
  "language_info": {
   "codemirror_mode": {
    "name": "ipython",
    "version": 3
   },
   "file_extension": ".py",
   "mimetype": "text/x-python",
   "name": "python",
   "nbconvert_exporter": "python",
   "pygments_lexer": "ipython3",
   "version": "3.11.3"
  }
 },
 "nbformat": 4,
 "nbformat_minor": 5
}
